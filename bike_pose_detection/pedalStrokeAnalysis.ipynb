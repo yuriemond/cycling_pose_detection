{
 "metadata": {
  "language_info": {
   "codemirror_mode": {
    "name": "ipython",
    "version": 3
   },
   "file_extension": ".py",
   "mimetype": "text/x-python",
   "name": "python",
   "nbconvert_exporter": "python",
   "pygments_lexer": "ipython3",
   "version": "3.8.8"
  },
  "orig_nbformat": 2,
  "kernelspec": {
   "name": "python388jvsc74a57bd019b08bd414d9ce04726a1daf78c19527c3eba365544edc4dafdf03dd189be067",
   "display_name": "Python 3.8.8 64-bit ('base': conda)"
  },
  "metadata": {
   "interpreter": {
    "hash": "ae51155e99829c63ee686ccb08710b34c93fe3123e4ca0df497814acef583e3a"
   }
  }
 },
 "nbformat": 4,
 "nbformat_minor": 2,
 "cells": [
  {
   "cell_type": "code",
   "execution_count": 9,
   "metadata": {},
   "outputs": [],
   "source": [
    "import cv2 \n",
    "import mediapipe as mp \n",
    "import numpy as np\n",
    "mp_drawing = mp.solutions.drawing_utils\n",
    "mp_pose = mp.solutions.pose "
   ]
  },
  {
   "cell_type": "code",
   "execution_count": 10,
   "metadata": {},
   "outputs": [],
   "source": [
    "def calculate_angle(a,b,c):\n",
    "    a = np.array(a) # First\n",
    "    b = np.array(b) # Mid\n",
    "    c = np.array(c) # End\n",
    "\n",
    "    radians = np.arctan2(c[1]-b[1], c[0]-b[0]) - np.arctan2(a[1]-b[1], a[0]-b[0])\n",
    "    angle = np.abs(radians*180.0/ np.pi)\n",
    "\n",
    "    if angle > 180.0:\n",
    "        angle = 360-angle\n",
    "        \n",
    "    return angle"
   ]
  },
  {
   "cell_type": "code",
   "execution_count": 11,
   "metadata": {},
   "outputs": [],
   "source": [
    "def distance(x, y):\n",
    "    return ((y[0] - x[0]) ** 2 + (y[1] - x[1]) ** 2) ** (1/2)"
   ]
  },
  {
   "cell_type": "code",
   "execution_count": 18,
   "metadata": {},
   "outputs": [
    {
     "output_type": "error",
     "ename": "AttributeError",
     "evalue": "'RepeatedCompositeFieldContainer' object has no attribute 'process'",
     "traceback": [
      "\u001b[1;31m---------------------------------------------------------------------------\u001b[0m",
      "\u001b[1;31mAttributeError\u001b[0m                            Traceback (most recent call last)",
      "\u001b[1;32m<ipython-input-18-e6fdee352707>\u001b[0m in \u001b[0;36m<module>\u001b[1;34m\u001b[0m\n\u001b[0;32m     17\u001b[0m         \u001b[1;31m# Make detection (accessing our pose model)\u001b[0m\u001b[1;33m\u001b[0m\u001b[1;33m\u001b[0m\u001b[1;33m\u001b[0m\u001b[0m\n\u001b[0;32m     18\u001b[0m         \u001b[1;31m# store our results in the variable\u001b[0m\u001b[1;33m\u001b[0m\u001b[1;33m\u001b[0m\u001b[1;33m\u001b[0m\u001b[0m\n\u001b[1;32m---> 19\u001b[1;33m         \u001b[0mresults\u001b[0m \u001b[1;33m=\u001b[0m \u001b[0mpose\u001b[0m\u001b[1;33m.\u001b[0m\u001b[0mprocess\u001b[0m\u001b[1;33m(\u001b[0m\u001b[0mimage\u001b[0m\u001b[1;33m)\u001b[0m\u001b[1;33m\u001b[0m\u001b[1;33m\u001b[0m\u001b[0m\n\u001b[0m\u001b[0;32m     20\u001b[0m \u001b[1;33m\u001b[0m\u001b[0m\n\u001b[0;32m     21\u001b[0m         \u001b[1;31m# Recolor back to BGR\u001b[0m\u001b[1;33m\u001b[0m\u001b[1;33m\u001b[0m\u001b[1;33m\u001b[0m\u001b[0m\n",
      "\u001b[1;31mAttributeError\u001b[0m: 'RepeatedCompositeFieldContainer' object has no attribute 'process'"
     ]
    }
   ],
   "source": [
    "#VIDEO FEED\n",
    "cap = cv2.VideoCapture(0)\n",
    "# Setup mediapipe instance\n",
    "# Increase the accurance by changing the confidence number \n",
    "with mp_pose.Pose(min_detection_confidence=0.9, min_tracking_confidence=0.5) as pose:\n",
    "    while cap.isOpened():\n",
    "        ret, frame = cap.read()\n",
    "        \n",
    "        # Recolor image to RGB\n",
    "        image = cv2.cvtColor(frame , cv2.COLOR_BGR2RGB)\n",
    "\n",
    "        # Flip on horizontal\n",
    "        image = cv2.flip(image, 1)\n",
    "\n",
    "        image.flags.writeable = False \n",
    "\n",
    "        # Make detection (accessing our pose model)\n",
    "        # store our results in the variable\n",
    "        results = pose.process(image)\n",
    "        \n",
    "        # Recolor back to BGR\n",
    "        image.flags.writeable = True\n",
    "        image = cv2.cvtColor(image, cv2.COLOR_RGB2BGR)\n",
    "\n",
    "        # Extract landmarks (joints)\n",
    "        try:\n",
    "            landmarks = results.pose_landmarks.landmark\n",
    "\n",
    "            #Get coordinates\n",
    "            shoulder = [landmarks[mp_pose.PoseLandmark.RIGHT_SHOULDER.value].x, \n",
    "                        landmarks[mp_pose.PoseLandmark.RIGHT_SHOULDER.value].y]\n",
    "            elbow = [landmarks[mp_pose.PoseLandmark.RIGHT_ELBOW.value].x, landmarks[mp_pose.PoseLandmark.RIGHT_ELBOW.value].y]\n",
    "            wrist = [landmarks[mp_pose.PoseLandmark.RIGHT_WRIST.value].x, landmarks[mp_pose.PoseLandmark.RIGHT_WRIST.value].y]\n",
    "\n",
    "            # shoulder = [landmarks[mp_pose.PoseLandmark.LEFT_ELBOW.value].x, \n",
    "            #             landmarks[mp_pose.PoseLandmark.LEFT_ELBOW.value].y]\n",
    "            # elbow = [landmarks[mp_pose.PoseLandmark.LEFT_SHOULDER.value].x, landmarks[mp_pose.PoseLandmark.LEFT_SHOULDER.value].y]\n",
    "            hip = [landmarks[mp_pose.PoseLandmark.RIGHT_HIP.value].x, landmarks[mp_pose.PoseLandmark.RIGHT_HIP.value].y]\n",
    "\n",
    "            l_hip = [landmarks[mp_pose.PoseLandmark.LEFT_HIP.value].x, landmarks[mp_pose.PoseLandmark.LEFT_HIP.value].y]\n",
    "            l_knee = [landmarks[mp_pose.PoseLandmark.LEFT_KNEE.value].x, landmarks[mp_pose.PoseLandmark.LEFT_KNEE.value].y]\n",
    "            l_ankle = [landmarks[mp_pose.PoseLandmark.LEFT_ANKLE.value].x, landmarks[mp_pose.PoseLandmark.LEFT_ANKLE.value].y]\n",
    "            l_foot = [landmarks[mp_pose.PoseLandmark.LEFT_FOOT_INDEX.value].x, landmarks[mp_pose.PoseLandmark.LEFT_FOOT_INDEX.value].y]\n",
    "\n",
    "            \n",
    "            # Calculate angle\n",
    "            angle_knee = calculate_angle(l_hip, l_knee, l_ankle)\n",
    "            angle_ankle = calculate_angle(l_knee, l_ankle, l_foot)\n",
    "            \n",
    "            #get distance\n",
    "            ankle_to_hip = distance(l_foot, l_hip)\n",
    "\n",
    "            #Visualize angle\n",
    "            cv2.putText(image, str(angle_knee),\n",
    "                        tuple(np.multiply(l_knee, [640, 480]).astype(int)),\n",
    "                        cv2.FONT_HERSHEY_SIMPLEX, 0.5, (255,255,255), 2, cv2.LINE_AA\n",
    "                        )\n",
    "            cv2.putText(image, str(angle_ankle),\n",
    "                        tuple(np.multiply(l_ankle, [640, 480]).astype(int)),\n",
    "                        cv2.FONT_HERSHEY_SIMPLEX, 0.5, (255,255,255), 2, cv2.LINE_AA\n",
    "                        )\n",
    "            cv2.putText(image, str(ankle_to_hip),\n",
    "                        tuple(np.multiply(l_hip, [640, 480]).astype(int)),\n",
    "                        cv2.FONT_HERSHEY_SIMPLEX, 0.5, (255,255,255), 2, cv2.LINE_AA\n",
    "                        )\n",
    "            \n",
    "            pose = results.pose_landmarks.landmark\n",
    "            pose_row = list(np.array([[landmark.x, landmark.y, landmark.z, landmark.visibility] for landmark in pose]).flatten())\n",
    "\n",
    "            # Concate Row (if i want to add face or hand)\n",
    "            row = pose_row\n",
    "\n",
    "            # Append class name\n",
    "            row.insert(0, class_name)\n",
    "\n",
    "            with open('coords.csv', mode='w', newline='') as f:\n",
    "                csv_writer = csv.writer(f, delimiter=',', quotechar='\"', quoting=csv.QUOTE_MINIMAL)\n",
    "                csv_writer.writerow(landmarks)\n",
    "\n",
    "            \n",
    "        except:\n",
    "            pass\n",
    "\n",
    "\n",
    "        # Render detection\n",
    "        mp_drawing.draw_landmarks(image, results.pose_landmarks, mp_pose.POSE_CONNECTIONS, \n",
    "                                  #color of the joint dot\n",
    "                                  mp_drawing.DrawingSpec(color=(245,117,66), thickness=2, circle_radius=2),\n",
    "                                  #color of the connection between joints\n",
    "                                  mp_drawing.DrawingSpec(color=(245,66,230), thickness=2, circle_radius=2)\n",
    "                                  )\n",
    "\n",
    "        cv2.imshow('Mediapipe Feed', image)\n",
    "        \n",
    "        if cv2.waitKey(10) & 0xFF == ord('q'):\n",
    "            break\n",
    "\n",
    "cap.release()\n",
    "cv2.destroyAllWindows()"
   ]
  },
  {
   "source": [
    "# Capture Landmarks & Export to CSV"
   ],
   "cell_type": "markdown",
   "metadata": {}
  },
  {
   "cell_type": "code",
   "execution_count": 5,
   "metadata": {},
   "outputs": [],
   "source": [
    "import csv \n",
    "import os \n",
    "import numpy as np "
   ]
  },
  {
   "cell_type": "code",
   "execution_count": 8,
   "metadata": {},
   "outputs": [],
   "source": [
    "num_coords = len(results.pose_landmarks.landmark)"
   ]
  },
  {
   "cell_type": "code",
   "execution_count": 10,
   "metadata": {},
   "outputs": [],
   "source": [
    "landmarks = ['class']\n",
    "for val in range(1, num_coords+1):\n",
    "    landmarks += ['x{}'.format(val), 'y{}'.format(val), 'z{}'.format(val), 'v{}'.format(val)]"
   ]
  },
  {
   "cell_type": "code",
   "execution_count": 13,
   "metadata": {},
   "outputs": [],
   "source": [
    "#create csv export columns to csv\n",
    "\n",
    "with open('coords.csv', mode='w', newline='') as f:\n",
    "    csv_writer = csv.writer(f, delimiter=',', quotechar='\"', quoting=csv.QUOTE_MINIMAL)\n",
    "    csv_writer.writerow(landmarks)\n"
   ]
  },
  {
   "cell_type": "code",
   "execution_count": 12,
   "metadata": {},
   "outputs": [
    {
     "output_type": "execute_result",
     "data": {
      "text/plain": [
       "'v33'"
      ]
     },
     "metadata": {},
     "execution_count": 12
    }
   ],
   "source": [
    "landmarks[-1]"
   ]
  },
  {
   "cell_type": "code",
   "execution_count": 17,
   "metadata": {},
   "outputs": [],
   "source": [
    "class_name = \"Pedaling\""
   ]
  },
  {
   "cell_type": "code",
   "execution_count": 20,
   "metadata": {},
   "outputs": [],
   "source": [
    "#VIDEO FEED\n",
    "cap = cv2.VideoCapture(0)\n",
    "# Setup mediapipe instance\n",
    "# Increase the accurance by changing the confidence number \n",
    "with mp_pose.Pose(min_detection_confidence=0.9, min_tracking_confidence=0.5) as pose:\n",
    "    while cap.isOpened():\n",
    "        ret, frame = cap.read()\n",
    "        \n",
    "        # Recolor image to RGB\n",
    "        image = cv2.cvtColor(frame , cv2.COLOR_BGR2RGB)\n",
    "\n",
    "        # Flip on horizontal\n",
    "        image = cv2.flip(image, 1)\n",
    "\n",
    "        image.flags.writeable = False \n",
    "\n",
    "        # Make detection (accessing our pose model)\n",
    "        # store our results in the variable\n",
    "        results = pose.process(image)\n",
    "        \n",
    "        # Recolor back to BGR\n",
    "        image.flags.writeable = True\n",
    "        image = cv2.cvtColor(image, cv2.COLOR_RGB2BGR)\n",
    "\n",
    "        # Extract landmarks (joints)\n",
    "        try:\n",
    "            landmarks = results.pose_landmarks.landmark\n",
    "\n",
    "            #Get coordinates\n",
    "            shoulder = [landmarks[mp_pose.PoseLandmark.RIGHT_SHOULDER.value].x, \n",
    "                        landmarks[mp_pose.PoseLandmark.RIGHT_SHOULDER.value].y]\n",
    "            elbow = [landmarks[mp_pose.PoseLandmark.RIGHT_ELBOW.value].x, landmarks[mp_pose.PoseLandmark.RIGHT_ELBOW.value].y]\n",
    "            wrist = [landmarks[mp_pose.PoseLandmark.RIGHT_WRIST.value].x, landmarks[mp_pose.PoseLandmark.RIGHT_WRIST.value].y]\n",
    "\n",
    "\n",
    "            hip = [landmarks[mp_pose.PoseLandmark.RIGHT_HIP.value].x, landmarks[mp_pose.PoseLandmark.RIGHT_HIP.value].y]\n",
    "\n",
    "            l_hip = [landmarks[mp_pose.PoseLandmark.LEFT_HIP.value].x, landmarks[mp_pose.PoseLandmark.LEFT_HIP.value].y]\n",
    "            l_knee = [landmarks[mp_pose.PoseLandmark.LEFT_KNEE.value].x, landmarks[mp_pose.PoseLandmark.LEFT_KNEE.value].y]\n",
    "            l_ankle = [landmarks[mp_pose.PoseLandmark.LEFT_ANKLE.value].x, landmarks[mp_pose.PoseLandmark.LEFT_ANKLE.value].y]\n",
    "            l_foot = [landmarks[mp_pose.PoseLandmark.LEFT_FOOT_INDEX.value].x, \n",
    "                      landmarks[mp_pose.PoseLandmark.LEFT_FOOT_INDEX.value].y]\n",
    "\n",
    "            \n",
    "            # Calculate angle\n",
    "            angle_knee = calculate_angle(l_hip, l_knee, l_ankle)\n",
    "            angle_ankle = calculate_angle(l_knee, l_ankle, l_foot)\n",
    "            \n",
    "            #get distance\n",
    "            ankle_to_hip = distance(l_foot, l_hip)\n",
    "\n",
    "            #Visualize angle\n",
    "            cv2.putText(image, str(angle_knee),\n",
    "                        tuple(np.multiply(l_knee, [640, 480]).astype(int)),\n",
    "                        cv2.FONT_HERSHEY_SIMPLEX, 0.5, (255,255,255), 2, cv2.LINE_AA\n",
    "                        )\n",
    "            cv2.putText(image, str(angle_ankle),\n",
    "                        tuple(np.multiply(l_ankle, [640, 480]).astype(int)),\n",
    "                        cv2.FONT_HERSHEY_SIMPLEX, 0.5, (255,255,255), 2, cv2.LINE_AA\n",
    "                        )\n",
    "            cv2.putText(image, str(ankle_to_hip),\n",
    "                        tuple(np.multiply(l_hip, [640, 480]).astype(int)),\n",
    "                        cv2.FONT_HERSHEY_SIMPLEX, 0.5, (255,255,255), 2, cv2.LINE_AA\n",
    "                        )\n",
    "\n",
    "\n",
    "        except:\n",
    "            pass\n",
    "\n",
    "\n",
    "        # Render detection\n",
    "        mp_drawing.draw_landmarks(image, results.pose_landmarks, mp_pose.POSE_CONNECTIONS, \n",
    "                                  #color of the joint dot\n",
    "                                  mp_drawing.DrawingSpec(color=(245,117,66), thickness=2, circle_radius=2),\n",
    "                                  #color of the connection between joints\n",
    "                                  mp_drawing.DrawingSpec(color=(245,66,230), thickness=2, circle_radius=2)\n",
    "                                  )\n",
    "\n",
    "        cv2.imshow('Mediapipe Feed', image)\n",
    "        \n",
    "        if cv2.waitKey(10) & 0xFF == ord('q'):\n",
    "            break\n",
    "\n",
    "cap.release()\n",
    "cv2.destroyAllWindows()"
   ]
  },
  {
   "cell_type": "code",
   "execution_count": 19,
   "metadata": {},
   "outputs": [],
   "source": [
    "cap.release()\n",
    "cv2.destroyAllWindows()"
   ]
  },
  {
   "cell_type": "code",
   "execution_count": 18,
   "metadata": {},
   "outputs": [
    {
     "output_type": "execute_result",
     "data": {
      "text/plain": [
       "array([ 0.58431733,  0.15713522, -1.47611237,  0.9998256 ,  0.62091458,\n",
       "        0.0745687 , -1.4617902 ,  0.99976391,  0.6434561 ,  0.07192742,\n",
       "       -1.46224618,  0.99980646,  0.66251075,  0.06853723, -1.46277845,\n",
       "        0.99981481,  0.54399627,  0.07069651, -1.47170973,  0.99979222,\n",
       "        0.51394784,  0.06537333, -1.47213662,  0.99979657,  0.48949116,\n",
       "        0.06058053, -1.47243202,  0.99976599,  0.68504208,  0.05983482,\n",
       "       -1.21251428,  0.9998799 ,  0.45330071,  0.05129431, -1.2613188 ,\n",
       "        0.99979544,  0.61372578,  0.22259833, -1.36707246,  0.99983573,\n",
       "        0.53739178,  0.226604  , -1.38114142,  0.99982351,  0.77437204,\n",
       "        0.26630959, -0.98522741,  0.99982101,  0.30563623,  0.24625193,\n",
       "       -1.00685251,  0.99862134,  0.85768253,  0.70254081, -0.93271667,\n",
       "        0.95019537,  0.24618308,  0.70908475, -0.9296006 ,  0.86028612,\n",
       "        0.94638312,  1.1095506 , -1.10267675,  0.76448482,  0.15032813,\n",
       "        1.03849661, -1.02636516,  0.47720304,  1.01249576,  1.20978081,\n",
       "       -1.17580485,  0.58726537,  0.10506316,  1.10221016, -1.09262919,\n",
       "        0.31827286,  0.99327469,  1.2237401 , -1.25478125,  0.64462608,\n",
       "        0.11206619,  1.11307526, -1.16787696,  0.35490781,  0.9469949 ,\n",
       "        1.19350433, -1.14110208,  0.66419458,  0.15450425,  1.09749997,\n",
       "       -1.06479216,  0.40123999,  0.62709033,  0.70887554,  0.01659443,\n",
       "        0.99279898,  0.44162536,  0.72785211, -0.01571798,  0.98845893,\n",
       "        0.61781156,  0.83572656,  0.65974194,  0.42965147,  0.48008567,\n",
       "        0.85623604,  0.62242258,  0.44524911,  0.60510248,  0.82890832,\n",
       "        1.42311394,  0.27822247,  0.52857459,  0.8632108 ,  1.4066515 ,\n",
       "        0.25789443,  0.60505581,  0.84819335,  1.49464583,  0.16576833,\n",
       "        0.53351229,  0.83875901,  1.48382902,  0.17073129,  0.62867922,\n",
       "        0.94576746,  1.34571481,  0.3628898 ,  0.53757304,  0.94236606,\n",
       "        1.35770011,  0.32075033])"
      ]
     },
     "metadata": {},
     "execution_count": 18
    }
   ],
   "source": [
    "np.array([[landmark.x, landmark.y, landmark.z, landmark.visibility] for landmark in pose]).flatten()"
   ]
  },
  {
   "cell_type": "code",
   "execution_count": 15,
   "metadata": {},
   "outputs": [],
   "source": [
    "pose = results.pose_landmarks.landmark"
   ]
  }
 ]
}